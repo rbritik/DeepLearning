{
  "nbformat": 4,
  "nbformat_minor": 0,
  "metadata": {
    "colab": {
      "provenance": [],
      "authorship_tag": "ABX9TyPwZvOuGzX3wAzIy4VKH84J",
      "include_colab_link": true
    },
    "kernelspec": {
      "name": "python3",
      "display_name": "Python 3"
    },
    "language_info": {
      "name": "python"
    }
  },
  "cells": [
    {
      "cell_type": "markdown",
      "metadata": {
        "id": "view-in-github",
        "colab_type": "text"
      },
      "source": [
        "<a href=\"https://colab.research.google.com/github/rbritik/DeepLearning/blob/main/Micrograd.ipynb\" target=\"_parent\"><img src=\"https://colab.research.google.com/assets/colab-badge.svg\" alt=\"Open In Colab\"/></a>"
      ]
    },
    {
      "cell_type": "code",
      "execution_count": 1,
      "metadata": {
        "id": "S3cZrMB9sHVy"
      },
      "outputs": [],
      "source": [
        "import numpy as np\n",
        "import matplotlib.pyplot as plt\n",
        "import random\n",
        "import math\n",
        "%matplotlib inline"
      ]
    },
    {
      "cell_type": "code",
      "source": [
        "class Value:\n",
        "\n",
        "  def __init__(self, data, _children=(), _op='', label=''):\n",
        "    self.data = data\n",
        "    self.grad = 0.0\n",
        "    self._backward = lambda: None\n",
        "    self._prev = set(_children)\n",
        "    self._op = _op\n",
        "    self.label = label\n",
        "\n",
        "  def __repr__(self):\n",
        "    return f\"Value(data={self.data})\"\n",
        "\n",
        "  def __add__(self, other):\n",
        "    other = other if isinstance(other , Value) else Value(other)    # for operations with integer (like x + 1)\n",
        "    out = Value(self.data + other .data, (self, other), '+')\n",
        "\n",
        "    def _backward():\n",
        "      self.grad += 1.0 * out.grad \n",
        "      other.grad += 1.0 * out.grad\n",
        "\n",
        "    out._backward = _backward\n",
        "    return out\n",
        "  \n",
        "  def __radd__(self, other):    # when doing operations like 2 + x instead of x + 2\n",
        "    return self + other\n",
        "\n",
        "  def __mul__(self, other):\n",
        "    other = other if isinstance(other, Value) else Value(other)\n",
        "    out = Value(self.data * other.data, (self, other), '*')\n",
        "\n",
        "    def _backward():\n",
        "      self.grad += other.data * out.grad\n",
        "      other.grad += self.data * out.grad\n",
        "    \n",
        "    out._backward = _backward\n",
        "    return out\n",
        "\n",
        "  def __pow__(self, other):      # power operation needed for division\n",
        "    assert isinstance(other, (int, float)), \"only supporting int/float powers for now\"\n",
        "    out = Value(self.data**other, (self, ), f'**{other}')\n",
        "\n",
        "    def _backward():\n",
        "      self.grad += other * (self.data ** (other - 1)) * out.grad\n",
        "\n",
        "    self._backward = _backward\n",
        "    return out\n",
        "\n",
        "  def exp(self):          # Exponentiation\n",
        "    out = Value(math.exp(self.data), (self, ), 'exp')\n",
        "\n",
        "    def _backward():\n",
        "      self.grad += out.data * out.grad\n",
        "\n",
        "    self._backward = _backward\n",
        "    return out\n",
        "\n",
        "\n",
        "  def tanh(self):    # Activation function\n",
        "    x = self.data\n",
        "    t = (math.exp(2*x) - 1)/(math.exp(2*x) + 1)\n",
        "    out = Value(t, (self, ), 'tanh')\n",
        "\n",
        "    def _backward():\n",
        "      self.grad += (1 - t**2) * out.grad\n",
        "\n",
        "    out._backward = _backward\n",
        "    return out\n",
        "\n",
        "  def __rmul__(self, other):    # needed when doing operations like 2 * x instead of x * 2\n",
        "    return self * other\n",
        "\n",
        "  def __neg__(self):     # needed for subtracting and division\n",
        "    return self * -1\n",
        "\n",
        "  def __sub__(self, other):   # subtraction\n",
        "    return self + (-other)\n",
        "\n",
        "  def __truediv__(self, other):\n",
        "    return self * (other**-1)\n",
        "  \n",
        "\n",
        "  def backward(self):   # Function for automatic backward propagation\n",
        "\n",
        "    topo = []    # topological sort from end\n",
        "    visited = set()\n",
        "\n",
        "    def build_topo(v):\n",
        "      if v not in visited:\n",
        "        visited.add(v)\n",
        "        for child in v._prev:\n",
        "          build_topo(child)\n",
        "        topo.append(v)\n",
        "    \n",
        "    build_topo(self)\n",
        "\n",
        "    self.grad = 1.0\n",
        "    for node in reversed(topo):\n",
        "      node._backward()\n"
      ],
      "metadata": {
        "id": "dem5QqbHsUbN"
      },
      "execution_count": 33,
      "outputs": []
    },
    {
      "cell_type": "code",
      "source": [
        "# For visualisation of the graph\n",
        "\n",
        "from graphviz import Digraph\n",
        "\n",
        "def trace(root):\n",
        "  # builds a set of all nodes and edges in a graph\n",
        "  nodes, edges = set(), set()\n",
        "\n",
        "  def build(v):\n",
        "    if v not in nodes:\n",
        "      nodes.add(v)\n",
        "      for child in v._prev:\n",
        "        edges.add((child, v))\n",
        "        build(child)\n",
        "  build(root)\n",
        "  return nodes, edges\n",
        "\n",
        "def draw_dot(root):\n",
        "  dot = Digraph(format='svg', graph_attr={'rankdir': 'LR'}) # LR = left to right\n",
        "\n",
        "  nodes, edges = trace(root)\n",
        "  for n in nodes:\n",
        "    uid = str(id(n))\n",
        "    # for any value in the graph, create a rectangular ('record') node for it\n",
        "    dot.node(name = uid, label = \"{ %s | data: %.4f | grad: %.4f }\" % (n.label, n.data, n.grad), shape='record')\n",
        "    if n._op:\n",
        "      # if this value is a result of some operation, create an op node for it\n",
        "      dot.node(name = uid + n._op, label = n._op)\n",
        "      # and connect this node to it\n",
        "      dot.edge(uid + n._op, uid)\n",
        "\n",
        "  for n1, n2 in edges:\n",
        "    # connect n1 to op node of n2\n",
        "    dot.edge(str(id(n1)), str(id(n2)) + n2._op)\n",
        "  return dot"
      ],
      "metadata": {
        "id": "NfakOnfTtyNp"
      },
      "execution_count": 23,
      "outputs": []
    },
    {
      "cell_type": "code",
      "source": [
        "x1 = Value(2.0, label='x1')\n",
        "x2 = Value(0.0, label='x2')\n",
        "# weights\n",
        "w1 = Value(-3.0, label='w1')\n",
        "w2 = Value(1.0, label='w2')\n",
        "\n",
        "# bias of the neuron\n",
        "b = Value(6.8813735870195432, label='b')\n",
        "# x1*w1 + x2*w2 + b\n",
        "x1w1 = x1*w1; x1w1.label = 'x1*w1'\n",
        "x2w2 = x2*w2; x2w2.label = 'x2*w2'\n",
        "x1w1x2w2 = x1w1 + x2w2; x1w1x2w2.label = 'x1*w1 + x2*w2'\n",
        "n = x1w1x2w2 + b; n.label = 'n'\n",
        "o = n.tanh(); o.label = 'o'\n",
        "o.backward()"
      ],
      "metadata": {
        "id": "yOTst4xZuHGS"
      },
      "execution_count": 31,
      "outputs": []
    },
    {
      "cell_type": "code",
      "source": [
        "draw_dot(o)"
      ],
      "metadata": {
        "colab": {
          "base_uri": "https://localhost:8080/",
          "height": 321
        },
        "id": "7epK1n2FuJFg",
        "outputId": "cf1b0a5a-bdcf-474c-e64f-ecf7c70c9c55"
      },
      "execution_count": 32,
      "outputs": [
        {
          "output_type": "execute_result",
          "data": {
            "image/svg+xml": "<?xml version=\"1.0\" encoding=\"UTF-8\" standalone=\"no\"?>\n<!DOCTYPE svg PUBLIC \"-//W3C//DTD SVG 1.1//EN\"\n \"http://www.w3.org/Graphics/SVG/1.1/DTD/svg11.dtd\">\n<!-- Generated by graphviz version 2.43.0 (0)\n -->\n<!-- Title: %3 Pages: 1 -->\n<svg width=\"1615pt\" height=\"210pt\"\n viewBox=\"0.00 0.00 1615.00 210.00\" xmlns=\"http://www.w3.org/2000/svg\" xmlns:xlink=\"http://www.w3.org/1999/xlink\">\n<g id=\"graph0\" class=\"graph\" transform=\"scale(1 1) rotate(0) translate(4 206)\">\n<title>%3</title>\n<polygon fill=\"white\" stroke=\"transparent\" points=\"-4,4 -4,-206 1611,-206 1611,4 -4,4\"/>\n<!-- 139804582303344 -->\n<g id=\"node1\" class=\"node\">\n<title>139804582303344</title>\n<polygon fill=\"none\" stroke=\"black\" points=\"334,-55.5 334,-91.5 562,-91.5 562,-55.5 334,-55.5\"/>\n<text text-anchor=\"middle\" x=\"360.5\" y=\"-69.8\" font-family=\"Times,serif\" font-size=\"14.00\">x1*w1</text>\n<polyline fill=\"none\" stroke=\"black\" points=\"387,-55.5 387,-91.5 \"/>\n<text text-anchor=\"middle\" x=\"431.5\" y=\"-69.8\" font-family=\"Times,serif\" font-size=\"14.00\">data: &#45;6.0000</text>\n<polyline fill=\"none\" stroke=\"black\" points=\"476,-55.5 476,-91.5 \"/>\n<text text-anchor=\"middle\" x=\"519\" y=\"-69.8\" font-family=\"Times,serif\" font-size=\"14.00\">grad: 0.5000</text>\n</g>\n<!-- 139804582303920+ -->\n<g id=\"node6\" class=\"node\">\n<title>139804582303920+</title>\n<ellipse fill=\"none\" stroke=\"black\" cx=\"625\" cy=\"-100.5\" rx=\"27\" ry=\"18\"/>\n<text text-anchor=\"middle\" x=\"625\" y=\"-96.8\" font-family=\"Times,serif\" font-size=\"14.00\">+</text>\n</g>\n<!-- 139804582303344&#45;&gt;139804582303920+ -->\n<g id=\"edge7\" class=\"edge\">\n<title>139804582303344&#45;&gt;139804582303920+</title>\n<path fill=\"none\" stroke=\"black\" d=\"M562.3,-90.98C571.62,-92.42 580.51,-93.79 588.5,-95.02\"/>\n<polygon fill=\"black\" stroke=\"black\" points=\"588.02,-98.49 598.43,-96.56 589.08,-91.57 588.02,-98.49\"/>\n</g>\n<!-- 139804582303344* -->\n<g id=\"node2\" class=\"node\">\n<title>139804582303344*</title>\n<ellipse fill=\"none\" stroke=\"black\" cx=\"271\" cy=\"-73.5\" rx=\"27\" ry=\"18\"/>\n<text text-anchor=\"middle\" x=\"271\" y=\"-69.8\" font-family=\"Times,serif\" font-size=\"14.00\">*</text>\n</g>\n<!-- 139804582303344*&#45;&gt;139804582303344 -->\n<g id=\"edge1\" class=\"edge\">\n<title>139804582303344*&#45;&gt;139804582303344</title>\n<path fill=\"none\" stroke=\"black\" d=\"M298.2,-73.5C305.62,-73.5 314.23,-73.5 323.48,-73.5\"/>\n<polygon fill=\"black\" stroke=\"black\" points=\"323.76,-77 333.76,-73.5 323.76,-70 323.76,-77\"/>\n</g>\n<!-- 139804582033008 -->\n<g id=\"node3\" class=\"node\">\n<title>139804582033008</title>\n<polygon fill=\"none\" stroke=\"black\" points=\"732,-137.5 732,-173.5 925,-173.5 925,-137.5 732,-137.5\"/>\n<text text-anchor=\"middle\" x=\"743.5\" y=\"-151.8\" font-family=\"Times,serif\" font-size=\"14.00\">b</text>\n<polyline fill=\"none\" stroke=\"black\" points=\"755,-137.5 755,-173.5 \"/>\n<text text-anchor=\"middle\" x=\"797\" y=\"-151.8\" font-family=\"Times,serif\" font-size=\"14.00\">data: 6.8814</text>\n<polyline fill=\"none\" stroke=\"black\" points=\"839,-137.5 839,-173.5 \"/>\n<text text-anchor=\"middle\" x=\"882\" y=\"-151.8\" font-family=\"Times,serif\" font-size=\"14.00\">grad: 0.5000</text>\n</g>\n<!-- 139804584373168+ -->\n<g id=\"node15\" class=\"node\">\n<title>139804584373168+</title>\n<ellipse fill=\"none\" stroke=\"black\" cx=\"1032\" cy=\"-127.5\" rx=\"27\" ry=\"18\"/>\n<text text-anchor=\"middle\" x=\"1032\" y=\"-123.8\" font-family=\"Times,serif\" font-size=\"14.00\">+</text>\n</g>\n<!-- 139804582033008&#45;&gt;139804584373168+ -->\n<g id=\"edge10\" class=\"edge\">\n<title>139804582033008&#45;&gt;139804584373168+</title>\n<path fill=\"none\" stroke=\"black\" d=\"M925.23,-142.2C950.2,-138.73 975.57,-135.2 995.2,-132.47\"/>\n<polygon fill=\"black\" stroke=\"black\" points=\"995.78,-135.93 1005.2,-131.09 994.81,-128.99 995.78,-135.93\"/>\n</g>\n<!-- 139804582034064 -->\n<g id=\"node4\" class=\"node\">\n<title>139804582034064</title>\n<polygon fill=\"none\" stroke=\"black\" points=\"2.5,-165.5 2.5,-201.5 205.5,-201.5 205.5,-165.5 2.5,-165.5\"/>\n<text text-anchor=\"middle\" x=\"19\" y=\"-179.8\" font-family=\"Times,serif\" font-size=\"14.00\">w2</text>\n<polyline fill=\"none\" stroke=\"black\" points=\"35.5,-165.5 35.5,-201.5 \"/>\n<text text-anchor=\"middle\" x=\"77.5\" y=\"-179.8\" font-family=\"Times,serif\" font-size=\"14.00\">data: 1.0000</text>\n<polyline fill=\"none\" stroke=\"black\" points=\"119.5,-165.5 119.5,-201.5 \"/>\n<text text-anchor=\"middle\" x=\"162.5\" y=\"-179.8\" font-family=\"Times,serif\" font-size=\"14.00\">grad: 0.0000</text>\n</g>\n<!-- 139804582303440* -->\n<g id=\"node8\" class=\"node\">\n<title>139804582303440*</title>\n<ellipse fill=\"none\" stroke=\"black\" cx=\"271\" cy=\"-128.5\" rx=\"27\" ry=\"18\"/>\n<text text-anchor=\"middle\" x=\"271\" y=\"-124.8\" font-family=\"Times,serif\" font-size=\"14.00\">*</text>\n</g>\n<!-- 139804582034064&#45;&gt;139804582303440* -->\n<g id=\"edge11\" class=\"edge\">\n<title>139804582034064&#45;&gt;139804582303440*</title>\n<path fill=\"none\" stroke=\"black\" d=\"M179.99,-165.42C189.49,-162.67 199.03,-159.68 208,-156.5 218.55,-152.77 229.78,-147.96 239.74,-143.39\"/>\n<polygon fill=\"black\" stroke=\"black\" points=\"241.28,-146.54 248.84,-139.12 238.3,-140.2 241.28,-146.54\"/>\n</g>\n<!-- 139804582303920 -->\n<g id=\"node5\" class=\"node\">\n<title>139804582303920</title>\n<polygon fill=\"none\" stroke=\"black\" points=\"688,-82.5 688,-118.5 969,-118.5 969,-82.5 688,-82.5\"/>\n<text text-anchor=\"middle\" x=\"741\" y=\"-96.8\" font-family=\"Times,serif\" font-size=\"14.00\">x1*w1 + x2*w2</text>\n<polyline fill=\"none\" stroke=\"black\" points=\"794,-82.5 794,-118.5 \"/>\n<text text-anchor=\"middle\" x=\"838.5\" y=\"-96.8\" font-family=\"Times,serif\" font-size=\"14.00\">data: &#45;6.0000</text>\n<polyline fill=\"none\" stroke=\"black\" points=\"883,-82.5 883,-118.5 \"/>\n<text text-anchor=\"middle\" x=\"926\" y=\"-96.8\" font-family=\"Times,serif\" font-size=\"14.00\">grad: 0.5000</text>\n</g>\n<!-- 139804582303920&#45;&gt;139804584373168+ -->\n<g id=\"edge13\" class=\"edge\">\n<title>139804582303920&#45;&gt;139804584373168+</title>\n<path fill=\"none\" stroke=\"black\" d=\"M963.9,-118.51C975.23,-120.03 985.92,-121.46 995.3,-122.72\"/>\n<polygon fill=\"black\" stroke=\"black\" points=\"994.91,-126.2 1005.29,-124.05 995.84,-119.26 994.91,-126.2\"/>\n</g>\n<!-- 139804582303920+&#45;&gt;139804582303920 -->\n<g id=\"edge2\" class=\"edge\">\n<title>139804582303920+&#45;&gt;139804582303920</title>\n<path fill=\"none\" stroke=\"black\" d=\"M652.34,-100.5C659.79,-100.5 668.45,-100.5 677.87,-100.5\"/>\n<polygon fill=\"black\" stroke=\"black\" points=\"677.94,-104 687.94,-100.5 677.94,-97 677.94,-104\"/>\n</g>\n<!-- 139804582303440 -->\n<g id=\"node7\" class=\"node\">\n<title>139804582303440</title>\n<polygon fill=\"none\" stroke=\"black\" points=\"336.5,-110.5 336.5,-146.5 559.5,-146.5 559.5,-110.5 336.5,-110.5\"/>\n<text text-anchor=\"middle\" x=\"363\" y=\"-124.8\" font-family=\"Times,serif\" font-size=\"14.00\">x2*w2</text>\n<polyline fill=\"none\" stroke=\"black\" points=\"389.5,-110.5 389.5,-146.5 \"/>\n<text text-anchor=\"middle\" x=\"431.5\" y=\"-124.8\" font-family=\"Times,serif\" font-size=\"14.00\">data: 0.0000</text>\n<polyline fill=\"none\" stroke=\"black\" points=\"473.5,-110.5 473.5,-146.5 \"/>\n<text text-anchor=\"middle\" x=\"516.5\" y=\"-124.8\" font-family=\"Times,serif\" font-size=\"14.00\">grad: 0.5000</text>\n</g>\n<!-- 139804582303440&#45;&gt;139804582303920+ -->\n<g id=\"edge12\" class=\"edge\">\n<title>139804582303440&#45;&gt;139804582303920+</title>\n<path fill=\"none\" stroke=\"black\" d=\"M559.83,-110.77C570.05,-109.13 579.82,-107.57 588.51,-106.18\"/>\n<polygon fill=\"black\" stroke=\"black\" points=\"589.21,-109.61 598.54,-104.57 588.11,-102.7 589.21,-109.61\"/>\n</g>\n<!-- 139804582303440*&#45;&gt;139804582303440 -->\n<g id=\"edge3\" class=\"edge\">\n<title>139804582303440*&#45;&gt;139804582303440</title>\n<path fill=\"none\" stroke=\"black\" d=\"M298.2,-128.5C306.36,-128.5 315.96,-128.5 326.28,-128.5\"/>\n<polygon fill=\"black\" stroke=\"black\" points=\"326.37,-132 336.37,-128.5 326.37,-125 326.37,-132\"/>\n</g>\n<!-- 139804582032624 -->\n<g id=\"node9\" class=\"node\">\n<title>139804582032624</title>\n<polygon fill=\"none\" stroke=\"black\" points=\"4,-110.5 4,-146.5 204,-146.5 204,-110.5 4,-110.5\"/>\n<text text-anchor=\"middle\" x=\"19\" y=\"-124.8\" font-family=\"Times,serif\" font-size=\"14.00\">x2</text>\n<polyline fill=\"none\" stroke=\"black\" points=\"34,-110.5 34,-146.5 \"/>\n<text text-anchor=\"middle\" x=\"76\" y=\"-124.8\" font-family=\"Times,serif\" font-size=\"14.00\">data: 0.0000</text>\n<polyline fill=\"none\" stroke=\"black\" points=\"118,-110.5 118,-146.5 \"/>\n<text text-anchor=\"middle\" x=\"161\" y=\"-124.8\" font-family=\"Times,serif\" font-size=\"14.00\">grad: 0.5000</text>\n</g>\n<!-- 139804582032624&#45;&gt;139804582303440* -->\n<g id=\"edge14\" class=\"edge\">\n<title>139804582032624&#45;&gt;139804582303440*</title>\n<path fill=\"none\" stroke=\"black\" d=\"M204.31,-128.5C214.81,-128.5 224.93,-128.5 233.95,-128.5\"/>\n<polygon fill=\"black\" stroke=\"black\" points=\"233.99,-132 243.99,-128.5 233.99,-125 233.99,-132\"/>\n</g>\n<!-- 139804584371488 -->\n<g id=\"node10\" class=\"node\">\n<title>139804584371488</title>\n<polygon fill=\"none\" stroke=\"black\" points=\"1414,-109.5 1414,-145.5 1607,-145.5 1607,-109.5 1414,-109.5\"/>\n<text text-anchor=\"middle\" x=\"1425.5\" y=\"-123.8\" font-family=\"Times,serif\" font-size=\"14.00\">o</text>\n<polyline fill=\"none\" stroke=\"black\" points=\"1437,-109.5 1437,-145.5 \"/>\n<text text-anchor=\"middle\" x=\"1479\" y=\"-123.8\" font-family=\"Times,serif\" font-size=\"14.00\">data: 0.7071</text>\n<polyline fill=\"none\" stroke=\"black\" points=\"1521,-109.5 1521,-145.5 \"/>\n<text text-anchor=\"middle\" x=\"1564\" y=\"-123.8\" font-family=\"Times,serif\" font-size=\"14.00\">grad: 1.0000</text>\n</g>\n<!-- 139804584371488tanh -->\n<g id=\"node11\" class=\"node\">\n<title>139804584371488tanh</title>\n<ellipse fill=\"none\" stroke=\"black\" cx=\"1351\" cy=\"-127.5\" rx=\"27\" ry=\"18\"/>\n<text text-anchor=\"middle\" x=\"1351\" y=\"-123.8\" font-family=\"Times,serif\" font-size=\"14.00\">tanh</text>\n</g>\n<!-- 139804584371488tanh&#45;&gt;139804584371488 -->\n<g id=\"edge4\" class=\"edge\">\n<title>139804584371488tanh&#45;&gt;139804584371488</title>\n<path fill=\"none\" stroke=\"black\" d=\"M1378.01,-127.5C1385.52,-127.5 1394.21,-127.5 1403.47,-127.5\"/>\n<polygon fill=\"black\" stroke=\"black\" points=\"1403.72,-131 1413.72,-127.5 1403.72,-124 1403.72,-131\"/>\n</g>\n<!-- 139804582034736 -->\n<g id=\"node12\" class=\"node\">\n<title>139804582034736</title>\n<polygon fill=\"none\" stroke=\"black\" points=\"2,-55.5 2,-91.5 206,-91.5 206,-55.5 2,-55.5\"/>\n<text text-anchor=\"middle\" x=\"17\" y=\"-69.8\" font-family=\"Times,serif\" font-size=\"14.00\">x1</text>\n<polyline fill=\"none\" stroke=\"black\" points=\"32,-55.5 32,-91.5 \"/>\n<text text-anchor=\"middle\" x=\"74\" y=\"-69.8\" font-family=\"Times,serif\" font-size=\"14.00\">data: 2.0000</text>\n<polyline fill=\"none\" stroke=\"black\" points=\"116,-55.5 116,-91.5 \"/>\n<text text-anchor=\"middle\" x=\"161\" y=\"-69.8\" font-family=\"Times,serif\" font-size=\"14.00\">grad: &#45;1.5000</text>\n</g>\n<!-- 139804582034736&#45;&gt;139804582303344* -->\n<g id=\"edge6\" class=\"edge\">\n<title>139804582034736&#45;&gt;139804582303344*</title>\n<path fill=\"none\" stroke=\"black\" d=\"M206.21,-73.5C215.96,-73.5 225.35,-73.5 233.78,-73.5\"/>\n<polygon fill=\"black\" stroke=\"black\" points=\"233.91,-77 243.91,-73.5 233.91,-70 233.91,-77\"/>\n</g>\n<!-- 139804582034256 -->\n<g id=\"node13\" class=\"node\">\n<title>139804582034256</title>\n<polygon fill=\"none\" stroke=\"black\" points=\"0,-0.5 0,-36.5 208,-36.5 208,-0.5 0,-0.5\"/>\n<text text-anchor=\"middle\" x=\"16.5\" y=\"-14.8\" font-family=\"Times,serif\" font-size=\"14.00\">w1</text>\n<polyline fill=\"none\" stroke=\"black\" points=\"33,-0.5 33,-36.5 \"/>\n<text text-anchor=\"middle\" x=\"77.5\" y=\"-14.8\" font-family=\"Times,serif\" font-size=\"14.00\">data: &#45;3.0000</text>\n<polyline fill=\"none\" stroke=\"black\" points=\"122,-0.5 122,-36.5 \"/>\n<text text-anchor=\"middle\" x=\"165\" y=\"-14.8\" font-family=\"Times,serif\" font-size=\"14.00\">grad: 1.0000</text>\n</g>\n<!-- 139804582034256&#45;&gt;139804582303344* -->\n<g id=\"edge9\" class=\"edge\">\n<title>139804582034256&#45;&gt;139804582303344*</title>\n<path fill=\"none\" stroke=\"black\" d=\"M176.61,-36.52C187.22,-39.61 197.95,-42.97 208,-46.5 218.3,-50.12 229.3,-54.67 239.13,-59.01\"/>\n<polygon fill=\"black\" stroke=\"black\" points=\"237.95,-62.31 248.5,-63.22 240.82,-55.93 237.95,-62.31\"/>\n</g>\n<!-- 139804584373168 -->\n<g id=\"node14\" class=\"node\">\n<title>139804584373168</title>\n<polygon fill=\"none\" stroke=\"black\" points=\"1095,-109.5 1095,-145.5 1288,-145.5 1288,-109.5 1095,-109.5\"/>\n<text text-anchor=\"middle\" x=\"1106.5\" y=\"-123.8\" font-family=\"Times,serif\" font-size=\"14.00\">n</text>\n<polyline fill=\"none\" stroke=\"black\" points=\"1118,-109.5 1118,-145.5 \"/>\n<text text-anchor=\"middle\" x=\"1160\" y=\"-123.8\" font-family=\"Times,serif\" font-size=\"14.00\">data: 0.8814</text>\n<polyline fill=\"none\" stroke=\"black\" points=\"1202,-109.5 1202,-145.5 \"/>\n<text text-anchor=\"middle\" x=\"1245\" y=\"-123.8\" font-family=\"Times,serif\" font-size=\"14.00\">grad: 0.5000</text>\n</g>\n<!-- 139804584373168&#45;&gt;139804584371488tanh -->\n<g id=\"edge8\" class=\"edge\">\n<title>139804584373168&#45;&gt;139804584371488tanh</title>\n<path fill=\"none\" stroke=\"black\" d=\"M1288.2,-127.5C1297.15,-127.5 1305.79,-127.5 1313.63,-127.5\"/>\n<polygon fill=\"black\" stroke=\"black\" points=\"1313.78,-131 1323.78,-127.5 1313.78,-124 1313.78,-131\"/>\n</g>\n<!-- 139804584373168+&#45;&gt;139804584373168 -->\n<g id=\"edge5\" class=\"edge\">\n<title>139804584373168+&#45;&gt;139804584373168</title>\n<path fill=\"none\" stroke=\"black\" d=\"M1059.01,-127.5C1066.52,-127.5 1075.21,-127.5 1084.47,-127.5\"/>\n<polygon fill=\"black\" stroke=\"black\" points=\"1084.72,-131 1094.72,-127.5 1084.72,-124 1084.72,-131\"/>\n</g>\n</g>\n</svg>\n",
            "text/plain": [
              "<graphviz.graphs.Digraph at 0x7f26ca96b8e0>"
            ]
          },
          "metadata": {},
          "execution_count": 32
        }
      ]
    },
    {
      "cell_type": "code",
      "source": [],
      "metadata": {
        "id": "qaKG-0_d2JzS"
      },
      "execution_count": null,
      "outputs": []
    }
  ]
}